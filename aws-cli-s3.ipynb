{
 "cells": [
  {
   "cell_type": "markdown",
   "metadata": {},
   "source": [
    "## Amazon S3\n",
    "\n",
    "### What it is S3\n",
    "\n",
    "__Amazon S3__ (Simple Storage Service) is a Amazon's service for storing files. It is simple in a sense that one store data using the follwing:\n",
    "* __bucket__: place to store. Its name is unique for all S3 users, which means that there cannot exist two buckets with the same name even if they are private for to different users.\n",
    "* __key__: a unique (for a bucket) name that link to the sotred object. It is common to use path like syntax to group objects. \n",
    "* __object__: any file (text or binary). It can be partitioned.\n",
    "\n",
    "### Sign up\n",
    "First go to \n",
    "<https://s3.console.aws.amazon.com/s3>\n",
    "\n",
    "and sign up for S3. You can also try to create a bucket, upload files etc. Here we will explain how to use it porogramatically. "
   ]
  },
  {
   "cell_type": "markdown",
   "metadata": {},
   "source": [
    "## Data \n",
    "\n",
    "But first let's get data we are going to use here. We take the dataset `train.csv` from <https://www.kaggle.com/c/jigsaw-toxic-comment-classification-challenge>. \n",
    "We locally store in `data` directory.\n",
    "\n",
    "### Sampling data\n",
    "\n",
    "We also sample this dataset in order to have one more example (and faster execution)."
   ]
  },
  {
   "cell_type": "code",
   "execution_count": 2,
   "metadata": {},
   "outputs": [
    {
     "data": {
      "text/html": [
       "<div>\n",
       "<style scoped>\n",
       "    .dataframe tbody tr th:only-of-type {\n",
       "        vertical-align: middle;\n",
       "    }\n",
       "\n",
       "    .dataframe tbody tr th {\n",
       "        vertical-align: top;\n",
       "    }\n",
       "\n",
       "    .dataframe thead th {\n",
       "        text-align: right;\n",
       "    }\n",
       "</style>\n",
       "<table border=\"1\" class=\"dataframe\">\n",
       "  <thead>\n",
       "    <tr style=\"text-align: right;\">\n",
       "      <th></th>\n",
       "      <th>id</th>\n",
       "      <th>comment_text</th>\n",
       "      <th>toxic</th>\n",
       "      <th>severe_toxic</th>\n",
       "      <th>obscene</th>\n",
       "      <th>threat</th>\n",
       "      <th>insult</th>\n",
       "      <th>identity_hate</th>\n",
       "    </tr>\n",
       "  </thead>\n",
       "  <tbody>\n",
       "    <tr>\n",
       "      <th>58764</th>\n",
       "      <td>9d5dbcb8a5b4ffe7</td>\n",
       "      <td>Excuse me? \\n\\nHi there. This is . I was just ...</td>\n",
       "      <td>0</td>\n",
       "      <td>0</td>\n",
       "      <td>0</td>\n",
       "      <td>0</td>\n",
       "      <td>0</td>\n",
       "      <td>0</td>\n",
       "    </tr>\n",
       "    <tr>\n",
       "      <th>131811</th>\n",
       "      <td>c14eac99440f267c</td>\n",
       "      <td>Millionaire is at GAN... \\n\\n…and the review h...</td>\n",
       "      <td>0</td>\n",
       "      <td>0</td>\n",
       "      <td>0</td>\n",
       "      <td>0</td>\n",
       "      <td>0</td>\n",
       "      <td>0</td>\n",
       "    </tr>\n",
       "    <tr>\n",
       "      <th>88460</th>\n",
       "      <td>eca71b12782e19dd</td>\n",
       "      <td>SHUT yOUR bUTT \\n\\nThats right, i siad it. I h...</td>\n",
       "      <td>1</td>\n",
       "      <td>0</td>\n",
       "      <td>1</td>\n",
       "      <td>1</td>\n",
       "      <td>0</td>\n",
       "      <td>0</td>\n",
       "    </tr>\n",
       "    <tr>\n",
       "      <th>116091</th>\n",
       "      <td>6cb62773403858a4</td>\n",
       "      <td>\"\\n I agree. Remove. flash; \"</td>\n",
       "      <td>0</td>\n",
       "      <td>0</td>\n",
       "      <td>0</td>\n",
       "      <td>0</td>\n",
       "      <td>0</td>\n",
       "      <td>0</td>\n",
       "    </tr>\n",
       "    <tr>\n",
       "      <th>42014</th>\n",
       "      <td>7013c411cfcfc56a</td>\n",
       "      <td>OK, I will link them on the talk page - could ...</td>\n",
       "      <td>0</td>\n",
       "      <td>0</td>\n",
       "      <td>0</td>\n",
       "      <td>0</td>\n",
       "      <td>0</td>\n",
       "      <td>0</td>\n",
       "    </tr>\n",
       "    <tr>\n",
       "      <th>49713</th>\n",
       "      <td>84ee5646920773c5</td>\n",
       "      <td>err... What exactly happens with Serviceman?</td>\n",
       "      <td>0</td>\n",
       "      <td>0</td>\n",
       "      <td>0</td>\n",
       "      <td>0</td>\n",
       "      <td>0</td>\n",
       "      <td>0</td>\n",
       "    </tr>\n",
       "    <tr>\n",
       "      <th>103293</th>\n",
       "      <td>28ca8dcc0b342980</td>\n",
       "      <td>i am a newbe i dont even know how to type on t...</td>\n",
       "      <td>0</td>\n",
       "      <td>0</td>\n",
       "      <td>0</td>\n",
       "      <td>0</td>\n",
       "      <td>0</td>\n",
       "      <td>0</td>\n",
       "    </tr>\n",
       "    <tr>\n",
       "      <th>95607</th>\n",
       "      <td>ffb366cd60c48f56</td>\n",
       "      <td>\"\\nAbsolutely agree. No relevance to either hi...</td>\n",
       "      <td>0</td>\n",
       "      <td>0</td>\n",
       "      <td>0</td>\n",
       "      <td>0</td>\n",
       "      <td>0</td>\n",
       "      <td>0</td>\n",
       "    </tr>\n",
       "    <tr>\n",
       "      <th>83139</th>\n",
       "      <td>de66043ff744144b</td>\n",
       "      <td>Thats what I think did i changed plot to story...</td>\n",
       "      <td>0</td>\n",
       "      <td>0</td>\n",
       "      <td>0</td>\n",
       "      <td>0</td>\n",
       "      <td>0</td>\n",
       "      <td>0</td>\n",
       "    </tr>\n",
       "    <tr>\n",
       "      <th>90771</th>\n",
       "      <td>f2d6367d798492d9</td>\n",
       "      <td>\"I will improve references. Again, please do n...</td>\n",
       "      <td>0</td>\n",
       "      <td>0</td>\n",
       "      <td>0</td>\n",
       "      <td>0</td>\n",
       "      <td>0</td>\n",
       "      <td>0</td>\n",
       "    </tr>\n",
       "  </tbody>\n",
       "</table>\n",
       "</div>"
      ],
      "text/plain": [
       "                      id                                       comment_text  \\\n",
       "58764   9d5dbcb8a5b4ffe7  Excuse me? \\n\\nHi there. This is . I was just ...   \n",
       "131811  c14eac99440f267c  Millionaire is at GAN... \\n\\n…and the review h...   \n",
       "88460   eca71b12782e19dd  SHUT yOUR bUTT \\n\\nThats right, i siad it. I h...   \n",
       "116091  6cb62773403858a4                      \"\\n I agree. Remove. flash; \"   \n",
       "42014   7013c411cfcfc56a  OK, I will link them on the talk page - could ...   \n",
       "49713   84ee5646920773c5       err... What exactly happens with Serviceman?   \n",
       "103293  28ca8dcc0b342980  i am a newbe i dont even know how to type on t...   \n",
       "95607   ffb366cd60c48f56  \"\\nAbsolutely agree. No relevance to either hi...   \n",
       "83139   de66043ff744144b  Thats what I think did i changed plot to story...   \n",
       "90771   f2d6367d798492d9  \"I will improve references. Again, please do n...   \n",
       "\n",
       "        toxic  severe_toxic  obscene  threat  insult  identity_hate  \n",
       "58764       0             0        0       0       0              0  \n",
       "131811      0             0        0       0       0              0  \n",
       "88460       1             0        1       1       0              0  \n",
       "116091      0             0        0       0       0              0  \n",
       "42014       0             0        0       0       0              0  \n",
       "49713       0             0        0       0       0              0  \n",
       "103293      0             0        0       0       0              0  \n",
       "95607       0             0        0       0       0              0  \n",
       "83139       0             0        0       0       0              0  \n",
       "90771       0             0        0       0       0              0  "
      ]
     },
     "execution_count": 2,
     "metadata": {},
     "output_type": "execute_result"
    }
   ],
   "source": [
    "import numpy as np\n",
    "import pandas as pd\n",
    "np.random.seed(10)\n",
    "comments = pd.read_csv(\"data/train.csv\")\n",
    "nrows = comments.shape[0]\n",
    "comments.iloc[np.random.choice(range(nrows), 10000, replace=False)]\\\n",
    "    .to_csv(\"data/train_sample10000.csv\", index=False)\n",
    "comments.iloc[np.random.choice(range(nrows), 1000, replace=False)]\\\n",
    "    .to_csv(\"data/train_sample1000.csv\", index=False)\n",
    "comments.iloc[np.random.choice(range(nrows), 100, replace=False)]\\\n",
    "    .to_csv(\"data/train_sample100.csv\", index=False)\n",
    "comments10 = comments.iloc[np.random.choice(range(nrows), 10, replace=False)]\n",
    "comments10.to_csv(\"data/train_sample10.csv\", index=False)\n",
    "comments10"
   ]
  },
  {
   "cell_type": "markdown",
   "metadata": {},
   "source": [
    "## Installing AWS Command Line Interface and boto\n",
    "\n",
    "In order to install boto (Python interface to Amazon Web Service) and AWS Command Line Interface (__CLI__) type:\n",
    "```\n",
    "pip install boto3\n",
    "pip install awscli\n",
    "```\n",
    "\n",
    "Then in your home directory create file `~/.aws/credentials` with the following:\n",
    "\n",
    "```\n",
    "[myaws]\n",
    "aws_access_key_id = YOUR_ACCESS_KEY\n",
    "aws_secret_access_key = YOUR_SECRET_KEY\n",
    "```\n",
    "\n",
    "If you add these configuration as `[default]`, you won't need to add `--profile myaws` in CLI commands in Section CLI Basic Commands.\n",
    "\n",
    "### Where to get credentials from\n",
    "\n",
    "1. Go to https://console.aws.amazon.com/console/home and log in\n",
    "2. Click on USER NAME (right top) and select `My Security Credentials`.\n",
    "3. Click on `+ Access keys (access key ID and secret access key)` and then on `Create New Acess Key`.\n",
    "4 Choose `Show access key`."
   ]
  },
  {
   "cell_type": "markdown",
   "metadata": {},
   "source": [
    "## CLI Basic Commands \n",
    "\n",
    "### List buckets\n",
    "```\n",
    "aws --profile myaws s3 ls\n",
    "```\n",
    "\n",
    "### List all buckets\n",
    "\n",
    "```\n",
    "aws --profile myaws s3 ls \n",
    "```\n",
    "\n",
    "### Create buckers\n",
    "```\n",
    "aws --profile myaws s3 mb s3://barteks-toxic-comments\n",
    "```\n",
    "__Warning__ The bucket namespace is shared by all users of the system so you need to change the name.\n",
    "\n",
    "### Upload and download files\n",
    "\n",
    "#### Upload\n",
    "```\n",
    "aws --profile myaws s3 cp data/train.csv s3://barteks-toxic-comments\n",
    "aws --profile myaws s3 cp data/train_sample10000.csv s3://barteks-toxic-comments/sample/\n",
    "aws --profile myaws s3 cp data/train_sample1000.csv s3://barteks-toxic-comments/sample/\n",
    "aws --profile myaws s3 cp data/train_sample100.csv s3://barteks-toxic-comments/sample/\n",
    "aws --profile myaws s3 cp data/train_sample10.csv s3://barteks-toxic-comments/sample/\n",
    "```\n",
    "\n",
    "The last 4 commands can be done in shell calling:\n",
    "```\n",
    "for f in data/train_sample1*.csv; do aws --profile myaws s3 cp $f s3://barteks-toxic-comments/sample/; done\n",
    "```\n",
    "\n",
    "#### Download\n",
    "```\n",
    "aws --profile myaws s3 cp s3://barteks-toxic-comments/sample/train_sample10.csv data/train_copy_sample10.csv\n",
    "```\n",
    "\n",
    "### List files in path\n",
    " \n",
    "```\n",
    "aws --profile myaws s3 ls s3://barteks-toxic-comments/\n",
    "aws --profile myaws s3 ls s3://barteks-toxic-comments/sample/\n",
    "```\n",
    "\n",
    "### Remove file(s)\n",
    "\n",
    "```\n",
    "aws --profile myaws s3 rm s3://barteks-toxic-comments/sample/train_sample2.csv\n",
    "aws --profile myaws s3 rm s3://barteks-toxic-comments/sample/ --recursive\n",
    "```\n",
    "\n",
    "### Delete bucket\n",
    "\n",
    "For deleting a bucket use\n",
    "```\n",
    "aws --profile myaws s3 rb  s3://barteks-toxic-comments\n",
    "```\n",
    "in order to delete non empty backet use `--force` option.\n",
    "\n",
    "In order to empty a backet use\n",
    "```\n",
    "aws --profile myaws s3 rm s3://barteks-toxic-comments/ --recursive\n",
    "```"
   ]
  },
  {
   "cell_type": "markdown",
   "metadata": {},
   "source": [
    "## What Boto is\n",
    "\n",
    "Boto is a Python package that provides interfaces to Amazon Web Services. Here we are focused on its application to S3."
   ]
  },
  {
   "cell_type": "markdown",
   "metadata": {},
   "source": [
    "### Creating S3 Resource\n",
    "\n",
    "We start using boto3 by creating S3 resorce object."
   ]
  },
  {
   "cell_type": "code",
   "execution_count": 3,
   "metadata": {},
   "outputs": [],
   "source": [
    "import boto3\n",
    "session = boto3.Session(profile_name='myaws')\n",
    "s3 = session.resource('s3')"
   ]
  },
  {
   "cell_type": "markdown",
   "metadata": {},
   "source": [
    "#### From evironment variables\n",
    "\n",
    "If your credentials are stored as evirionment variables `AWS_SECRET_KEY_ID` and `AWS_SECRET_ACCESS_KEY` then you can do the following:\n",
    "\n",
    "```\n",
    "import os\n",
    "aws_access_key_id = os.environ.get('AWS_SECRET_KEY_ID')\n",
    "aws_secret_access_key = s.environ.get('AWS_SECRET_ACCESS_KEY')\n",
    "session = boto3.Session(\n",
    "    aws_access_key_id=aws_access_key_id, \n",
    "    aws_secret_access_key=aws_secret_access_key)\n",
    "```"
   ]
  },
  {
   "cell_type": "markdown",
   "metadata": {},
   "source": [
    "### List buckets"
   ]
  },
  {
   "cell_type": "code",
   "execution_count": 4,
   "metadata": {},
   "outputs": [
    {
     "data": {
      "text/plain": [
       "[s3.Bucket(name='antofagasta'),\n",
       " s3.Bucket(name='bartek-ml-course'),\n",
       " s3.Bucket(name='bartek-photos'),\n",
       " s3.Bucket(name='barteks'),\n",
       " s3.Bucket(name='barteks-mess-nlp'),\n",
       " s3.Bucket(name='barteks-toxic-comments'),\n",
       " s3.Bucket(name='barteks-toxic-comments-stats'),\n",
       " s3.Bucket(name='cf-templates-1bjh24cmbbsnq-us-east-1'),\n",
       " s3.Bucket(name='edreams2018'),\n",
       " s3.Bucket(name='matematyka'),\n",
       " s3.Bucket(name='zaragoza-archiv')]"
      ]
     },
     "execution_count": 4,
     "metadata": {},
     "output_type": "execute_result"
    }
   ],
   "source": [
    "list(s3.buckets.all())"
   ]
  },
  {
   "cell_type": "markdown",
   "metadata": {},
   "source": [
    "### Create a bucket\n",
    "\n",
    "__Warning__ As before, bucket's namespace is shared, so the following command may not poroduce a bucket if a bucket with the name exists."
   ]
  },
  {
   "cell_type": "code",
   "execution_count": null,
   "metadata": {},
   "outputs": [],
   "source": [
    "#s3.create_bucket(\n",
    "#    ACL='public-read',\n",
    "#    Bucket=\"barteks-toxic-comments-stats\")"
   ]
  },
  {
   "cell_type": "markdown",
   "metadata": {},
   "source": [
    "And you have the followng Access Control List (ACL) options while creating it: \n",
    "* `'private', \n",
    "* 'public-read', \n",
    "* 'public-read-write', \n",
    "* 'authenticated-read'`."
   ]
  },
  {
   "cell_type": "markdown",
   "metadata": {},
   "source": [
    "### Deleting"
   ]
  },
  {
   "cell_type": "code",
   "execution_count": null,
   "metadata": {},
   "outputs": [],
   "source": [
    "#bucket = s3.Bucket('barteks-toxic-comments-stats')\n",
    "#bucket.delete()"
   ]
  },
  {
   "cell_type": "markdown",
   "metadata": {},
   "source": [
    "### List keys in the bucket"
   ]
  },
  {
   "cell_type": "code",
   "execution_count": 5,
   "metadata": {},
   "outputs": [
    {
     "data": {
      "text/plain": [
       "[s3.ObjectSummary(bucket_name='barteks-toxic-comments', key='sample/train_sample10.csv'),\n",
       " s3.ObjectSummary(bucket_name='barteks-toxic-comments', key='sample/train_sample100.csv'),\n",
       " s3.ObjectSummary(bucket_name='barteks-toxic-comments', key='sample/train_sample1000.csv'),\n",
       " s3.ObjectSummary(bucket_name='barteks-toxic-comments', key='sample/train_sample10000.csv'),\n",
       " s3.ObjectSummary(bucket_name='barteks-toxic-comments', key='train.csv')]"
      ]
     },
     "execution_count": 5,
     "metadata": {},
     "output_type": "execute_result"
    }
   ],
   "source": [
    "bucket = s3.Bucket('barteks-toxic-comments')\n",
    "objs = [obj for obj in bucket.objects.all()]\n",
    "objs"
   ]
  },
  {
   "cell_type": "code",
   "execution_count": 7,
   "metadata": {},
   "outputs": [
    {
     "data": {
      "text/plain": [
       "['sample/train_sample10.csv',\n",
       " 'sample/train_sample100.csv',\n",
       " 'sample/train_sample1000.csv',\n",
       " 'sample/train_sample10000.csv']"
      ]
     },
     "execution_count": 7,
     "metadata": {},
     "output_type": "execute_result"
    }
   ],
   "source": [
    "[obj.key for obj in bucket.objects.filter(Prefix=\"sample/\")]"
   ]
  },
  {
   "cell_type": "markdown",
   "metadata": {},
   "source": [
    "The object of class `ObjectSummary` has to properties `Bucket` (that returns Bucket object), `bucket_name` and `key` that return strings. "
   ]
  },
  {
   "cell_type": "code",
   "execution_count": 8,
   "metadata": {},
   "outputs": [
    {
     "data": {
      "text/plain": [
       "(s3.Bucket(name='barteks-toxic-comments'),\n",
       " 'barteks-toxic-comments',\n",
       " 'sample/train_sample10.csv')"
      ]
     },
     "execution_count": 8,
     "metadata": {},
     "output_type": "execute_result"
    }
   ],
   "source": [
    "objs[0].Bucket(), objs[0].bucket_name, objs[0].key"
   ]
  },
  {
   "cell_type": "markdown",
   "metadata": {},
   "source": [
    "#### Filter keys and sort them "
   ]
  },
  {
   "cell_type": "code",
   "execution_count": 9,
   "metadata": {},
   "outputs": [
    {
     "data": {
      "text/plain": [
       "[s3.ObjectSummary(bucket_name='barteks-toxic-comments', key='sample/train_sample10000.csv'),\n",
       " s3.ObjectSummary(bucket_name='barteks-toxic-comments', key='sample/train_sample1000.csv'),\n",
       " s3.ObjectSummary(bucket_name='barteks-toxic-comments', key='sample/train_sample100.csv'),\n",
       " s3.ObjectSummary(bucket_name='barteks-toxic-comments', key='sample/train_sample10.csv')]"
      ]
     },
     "execution_count": 9,
     "metadata": {},
     "output_type": "execute_result"
    }
   ],
   "source": [
    "objects = [obj for obj in bucket.objects.filter(Prefix=\"sample/\")]\n",
    "objects.sort(key=lambda obj: obj.key, reverse=True)\n",
    "objects"
   ]
  },
  {
   "cell_type": "markdown",
   "metadata": {},
   "source": [
    "### Download file"
   ]
  },
  {
   "cell_type": "code",
   "execution_count": 10,
   "metadata": {},
   "outputs": [],
   "source": [
    "bucket = s3.Bucket('barteks-toxic-comments')\n",
    "bucket.download_file('sample/train_sample10.csv', \"data/train_copy2_sample10.csv\")"
   ]
  },
  {
   "cell_type": "markdown",
   "metadata": {},
   "source": [
    "#### Transform to pandas.DataFrame\n",
    "\n",
    "One way to do this is to download the file and open it with `pandas.read_csv` method. If we do not want to do this we have to read it a buffer and open it from there. In order to do this we need to use low level interaction."
   ]
  },
  {
   "cell_type": "code",
   "execution_count": 12,
   "metadata": {},
   "outputs": [
    {
     "data": {
      "text/html": [
       "<div>\n",
       "<style scoped>\n",
       "    .dataframe tbody tr th:only-of-type {\n",
       "        vertical-align: middle;\n",
       "    }\n",
       "\n",
       "    .dataframe tbody tr th {\n",
       "        vertical-align: top;\n",
       "    }\n",
       "\n",
       "    .dataframe thead th {\n",
       "        text-align: right;\n",
       "    }\n",
       "</style>\n",
       "<table border=\"1\" class=\"dataframe\">\n",
       "  <thead>\n",
       "    <tr style=\"text-align: right;\">\n",
       "      <th></th>\n",
       "      <th>id</th>\n",
       "      <th>comment_text</th>\n",
       "      <th>toxic</th>\n",
       "      <th>severe_toxic</th>\n",
       "      <th>obscene</th>\n",
       "      <th>threat</th>\n",
       "      <th>insult</th>\n",
       "      <th>identity_hate</th>\n",
       "    </tr>\n",
       "  </thead>\n",
       "  <tbody>\n",
       "    <tr>\n",
       "      <th>0</th>\n",
       "      <td>2e9c4b5d271ed9e2</td>\n",
       "      <td>From McCrillis Nsiah=\\n\\nI'm welcome again aft...</td>\n",
       "      <td>0</td>\n",
       "      <td>0</td>\n",
       "      <td>0</td>\n",
       "      <td>0</td>\n",
       "      <td>0</td>\n",
       "      <td>0</td>\n",
       "    </tr>\n",
       "    <tr>\n",
       "      <th>1</th>\n",
       "      <td>717f6930af943c80</td>\n",
       "      <td>\"\\n\\n Invitation \\n  I'd like to invite you to...</td>\n",
       "      <td>0</td>\n",
       "      <td>0</td>\n",
       "      <td>0</td>\n",
       "      <td>0</td>\n",
       "      <td>0</td>\n",
       "      <td>0</td>\n",
       "    </tr>\n",
       "    <tr>\n",
       "      <th>2</th>\n",
       "      <td>6fbf60373657a531</td>\n",
       "      <td>\"=Tropical Cyclone George=====\\nNamed George, ...</td>\n",
       "      <td>0</td>\n",
       "      <td>0</td>\n",
       "      <td>0</td>\n",
       "      <td>0</td>\n",
       "      <td>0</td>\n",
       "      <td>0</td>\n",
       "    </tr>\n",
       "    <tr>\n",
       "      <th>3</th>\n",
       "      <td>9deaefedc0fcb51f</td>\n",
       "      <td>No. I agree with BenBuff91 statement. The AFDI...</td>\n",
       "      <td>0</td>\n",
       "      <td>0</td>\n",
       "      <td>0</td>\n",
       "      <td>0</td>\n",
       "      <td>0</td>\n",
       "      <td>0</td>\n",
       "    </tr>\n",
       "    <tr>\n",
       "      <th>4</th>\n",
       "      <td>345bedef916b9f9e</td>\n",
       "      <td>. It seems the typical paranoid and prejudiced...</td>\n",
       "      <td>0</td>\n",
       "      <td>0</td>\n",
       "      <td>0</td>\n",
       "      <td>0</td>\n",
       "      <td>0</td>\n",
       "      <td>0</td>\n",
       "    </tr>\n",
       "  </tbody>\n",
       "</table>\n",
       "</div>"
      ],
      "text/plain": [
       "                 id                                       comment_text  toxic  \\\n",
       "0  2e9c4b5d271ed9e2  From McCrillis Nsiah=\\n\\nI'm welcome again aft...      0   \n",
       "1  717f6930af943c80  \"\\n\\n Invitation \\n  I'd like to invite you to...      0   \n",
       "2  6fbf60373657a531  \"=Tropical Cyclone George=====\\nNamed George, ...      0   \n",
       "3  9deaefedc0fcb51f  No. I agree with BenBuff91 statement. The AFDI...      0   \n",
       "4  345bedef916b9f9e  . It seems the typical paranoid and prejudiced...      0   \n",
       "\n",
       "   severe_toxic  obscene  threat  insult  identity_hate  \n",
       "0             0        0       0       0              0  \n",
       "1             0        0       0       0              0  \n",
       "2             0        0       0       0              0  \n",
       "3             0        0       0       0              0  \n",
       "4             0        0       0       0              0  "
      ]
     },
     "execution_count": 12,
     "metadata": {},
     "output_type": "execute_result"
    }
   ],
   "source": [
    "import io\n",
    "obj = s3.Object('barteks-toxic-comments', 'sample/train_sample100.csv').get()\n",
    "comments100 = pd.read_csv(io.BytesIO(obj['Body'].read()))\n",
    "comments100.head()"
   ]
  },
  {
   "cell_type": "markdown",
   "metadata": {},
   "source": [
    "Another way, using higher level `download_fileobj` requires transform bytes streaiming into text streaming."
   ]
  },
  {
   "cell_type": "code",
   "execution_count": 13,
   "metadata": {},
   "outputs": [
    {
     "data": {
      "text/html": [
       "<div>\n",
       "<style scoped>\n",
       "    .dataframe tbody tr th:only-of-type {\n",
       "        vertical-align: middle;\n",
       "    }\n",
       "\n",
       "    .dataframe tbody tr th {\n",
       "        vertical-align: top;\n",
       "    }\n",
       "\n",
       "    .dataframe thead th {\n",
       "        text-align: right;\n",
       "    }\n",
       "</style>\n",
       "<table border=\"1\" class=\"dataframe\">\n",
       "  <thead>\n",
       "    <tr style=\"text-align: right;\">\n",
       "      <th></th>\n",
       "      <th>id</th>\n",
       "      <th>comment_text</th>\n",
       "      <th>toxic</th>\n",
       "      <th>severe_toxic</th>\n",
       "      <th>obscene</th>\n",
       "      <th>threat</th>\n",
       "      <th>insult</th>\n",
       "      <th>identity_hate</th>\n",
       "    </tr>\n",
       "  </thead>\n",
       "  <tbody>\n",
       "    <tr>\n",
       "      <th>0</th>\n",
       "      <td>9d5dbcb8a5b4ffe7</td>\n",
       "      <td>Excuse me? \\n\\nHi there. This is . I was just ...</td>\n",
       "      <td>0</td>\n",
       "      <td>0</td>\n",
       "      <td>0</td>\n",
       "      <td>0</td>\n",
       "      <td>0</td>\n",
       "      <td>0</td>\n",
       "    </tr>\n",
       "    <tr>\n",
       "      <th>1</th>\n",
       "      <td>c14eac99440f267c</td>\n",
       "      <td>Millionaire is at GAN... \\n\\n…and the review h...</td>\n",
       "      <td>0</td>\n",
       "      <td>0</td>\n",
       "      <td>0</td>\n",
       "      <td>0</td>\n",
       "      <td>0</td>\n",
       "      <td>0</td>\n",
       "    </tr>\n",
       "    <tr>\n",
       "      <th>2</th>\n",
       "      <td>eca71b12782e19dd</td>\n",
       "      <td>SHUT yOUR bUTT \\n\\nThats right, i siad it. I h...</td>\n",
       "      <td>1</td>\n",
       "      <td>0</td>\n",
       "      <td>1</td>\n",
       "      <td>1</td>\n",
       "      <td>0</td>\n",
       "      <td>0</td>\n",
       "    </tr>\n",
       "    <tr>\n",
       "      <th>3</th>\n",
       "      <td>6cb62773403858a4</td>\n",
       "      <td>\"\\n I agree. Remove. flash; \"</td>\n",
       "      <td>0</td>\n",
       "      <td>0</td>\n",
       "      <td>0</td>\n",
       "      <td>0</td>\n",
       "      <td>0</td>\n",
       "      <td>0</td>\n",
       "    </tr>\n",
       "    <tr>\n",
       "      <th>4</th>\n",
       "      <td>7013c411cfcfc56a</td>\n",
       "      <td>OK, I will link them on the talk page - could ...</td>\n",
       "      <td>0</td>\n",
       "      <td>0</td>\n",
       "      <td>0</td>\n",
       "      <td>0</td>\n",
       "      <td>0</td>\n",
       "      <td>0</td>\n",
       "    </tr>\n",
       "    <tr>\n",
       "      <th>5</th>\n",
       "      <td>84ee5646920773c5</td>\n",
       "      <td>err... What exactly happens with Serviceman?</td>\n",
       "      <td>0</td>\n",
       "      <td>0</td>\n",
       "      <td>0</td>\n",
       "      <td>0</td>\n",
       "      <td>0</td>\n",
       "      <td>0</td>\n",
       "    </tr>\n",
       "    <tr>\n",
       "      <th>6</th>\n",
       "      <td>28ca8dcc0b342980</td>\n",
       "      <td>i am a newbe i dont even know how to type on t...</td>\n",
       "      <td>0</td>\n",
       "      <td>0</td>\n",
       "      <td>0</td>\n",
       "      <td>0</td>\n",
       "      <td>0</td>\n",
       "      <td>0</td>\n",
       "    </tr>\n",
       "    <tr>\n",
       "      <th>7</th>\n",
       "      <td>ffb366cd60c48f56</td>\n",
       "      <td>\"\\nAbsolutely agree. No relevance to either hi...</td>\n",
       "      <td>0</td>\n",
       "      <td>0</td>\n",
       "      <td>0</td>\n",
       "      <td>0</td>\n",
       "      <td>0</td>\n",
       "      <td>0</td>\n",
       "    </tr>\n",
       "    <tr>\n",
       "      <th>8</th>\n",
       "      <td>de66043ff744144b</td>\n",
       "      <td>Thats what I think did i changed plot to story...</td>\n",
       "      <td>0</td>\n",
       "      <td>0</td>\n",
       "      <td>0</td>\n",
       "      <td>0</td>\n",
       "      <td>0</td>\n",
       "      <td>0</td>\n",
       "    </tr>\n",
       "    <tr>\n",
       "      <th>9</th>\n",
       "      <td>f2d6367d798492d9</td>\n",
       "      <td>\"I will improve references. Again, please do n...</td>\n",
       "      <td>0</td>\n",
       "      <td>0</td>\n",
       "      <td>0</td>\n",
       "      <td>0</td>\n",
       "      <td>0</td>\n",
       "      <td>0</td>\n",
       "    </tr>\n",
       "  </tbody>\n",
       "</table>\n",
       "</div>"
      ],
      "text/plain": [
       "                 id                                       comment_text  toxic  \\\n",
       "0  9d5dbcb8a5b4ffe7  Excuse me? \\n\\nHi there. This is . I was just ...      0   \n",
       "1  c14eac99440f267c  Millionaire is at GAN... \\n\\n…and the review h...      0   \n",
       "2  eca71b12782e19dd  SHUT yOUR bUTT \\n\\nThats right, i siad it. I h...      1   \n",
       "3  6cb62773403858a4                      \"\\n I agree. Remove. flash; \"      0   \n",
       "4  7013c411cfcfc56a  OK, I will link them on the talk page - could ...      0   \n",
       "5  84ee5646920773c5       err... What exactly happens with Serviceman?      0   \n",
       "6  28ca8dcc0b342980  i am a newbe i dont even know how to type on t...      0   \n",
       "7  ffb366cd60c48f56  \"\\nAbsolutely agree. No relevance to either hi...      0   \n",
       "8  de66043ff744144b  Thats what I think did i changed plot to story...      0   \n",
       "9  f2d6367d798492d9  \"I will improve references. Again, please do n...      0   \n",
       "\n",
       "   severe_toxic  obscene  threat  insult  identity_hate  \n",
       "0             0        0       0       0              0  \n",
       "1             0        0       0       0              0  \n",
       "2             0        1       1       0              0  \n",
       "3             0        0       0       0              0  \n",
       "4             0        0       0       0              0  \n",
       "5             0        0       0       0              0  \n",
       "6             0        0       0       0              0  \n",
       "7             0        0       0       0              0  \n",
       "8             0        0       0       0              0  \n",
       "9             0        0       0       0              0  "
      ]
     },
     "execution_count": 13,
     "metadata": {},
     "output_type": "execute_result"
    }
   ],
   "source": [
    "f = io.BytesIO()\n",
    "bucket.download_fileobj('sample/train_sample10.csv', f)\n",
    "f.seek(0)\n",
    "pd.read_csv(io.TextIOWrapper(f, encoding='utf-8'))"
   ]
  },
  {
   "cell_type": "markdown",
   "metadata": {},
   "source": [
    "### Upload file"
   ]
  },
  {
   "cell_type": "code",
   "execution_count": 14,
   "metadata": {},
   "outputs": [],
   "source": [
    "stat_bucket = s3.Bucket(\"barteks-toxic-comments-stats\")"
   ]
  },
  {
   "cell_type": "code",
   "execution_count": 15,
   "metadata": {},
   "outputs": [],
   "source": [
    "comments100stat = \\\n",
    "    comments100.groupby([\"toxic\", \"severe_toxic\", \"obscene\", \"threat\", \"insult\", \"identity_hate\"])\\\n",
    "    .count().reset_index()\n",
    "comments100stat.to_csv(\"data/train_sample100stat.csv\", index=False)"
   ]
  },
  {
   "cell_type": "code",
   "execution_count": 16,
   "metadata": {},
   "outputs": [],
   "source": [
    "stat_bucket.upload_file(\"data/train_sample100stat.csv\", 'sample/train_sample100stat.csv')"
   ]
  },
  {
   "cell_type": "code",
   "execution_count": 17,
   "metadata": {},
   "outputs": [
    {
     "data": {
      "text/plain": [
       "[s3.ObjectSummary(bucket_name='barteks-toxic-comments', key='sample/train_sample10.csv'),\n",
       " s3.ObjectSummary(bucket_name='barteks-toxic-comments', key='sample/train_sample100.csv'),\n",
       " s3.ObjectSummary(bucket_name='barteks-toxic-comments', key='sample/train_sample1000.csv'),\n",
       " s3.ObjectSummary(bucket_name='barteks-toxic-comments', key='sample/train_sample10000.csv'),\n",
       " s3.ObjectSummary(bucket_name='barteks-toxic-comments', key='train.csv')]"
      ]
     },
     "execution_count": 17,
     "metadata": {},
     "output_type": "execute_result"
    }
   ],
   "source": [
    "list(bucket.objects.all())"
   ]
  },
  {
   "cell_type": "markdown",
   "metadata": {},
   "source": [
    "#### With buffer"
   ]
  },
  {
   "cell_type": "code",
   "execution_count": 18,
   "metadata": {},
   "outputs": [],
   "source": [
    "import io\n",
    "f = io.StringIO()\n",
    "comments100stat.to_csv(f, index=False)\n",
    "stat_bucket.upload_fileobj(f, 'sample/train_sample100stat_copy.csv')"
   ]
  },
  {
   "cell_type": "code",
   "execution_count": 19,
   "metadata": {},
   "outputs": [
    {
     "data": {
      "text/plain": [
       "[s3.ObjectSummary(bucket_name='barteks-toxic-comments', key='sample/train_sample10.csv'),\n",
       " s3.ObjectSummary(bucket_name='barteks-toxic-comments', key='sample/train_sample100.csv'),\n",
       " s3.ObjectSummary(bucket_name='barteks-toxic-comments', key='sample/train_sample1000.csv'),\n",
       " s3.ObjectSummary(bucket_name='barteks-toxic-comments', key='sample/train_sample10000.csv'),\n",
       " s3.ObjectSummary(bucket_name='barteks-toxic-comments', key='train.csv')]"
      ]
     },
     "execution_count": 19,
     "metadata": {},
     "output_type": "execute_result"
    }
   ],
   "source": [
    "list(bucket.objects.all())"
   ]
  },
  {
   "cell_type": "markdown",
   "metadata": {},
   "source": [
    "### Delete"
   ]
  },
  {
   "cell_type": "code",
   "execution_count": null,
   "metadata": {},
   "outputs": [],
   "source": [
    "obj = s3.Object('barteks-toxic-comments', 'sample/train_copy2_sample10.csv')"
   ]
  },
  {
   "cell_type": "code",
   "execution_count": null,
   "metadata": {},
   "outputs": [],
   "source": [
    "obj.delete()"
   ]
  },
  {
   "cell_type": "markdown",
   "metadata": {},
   "source": [
    "### S3 client: low level access"
   ]
  },
  {
   "cell_type": "code",
   "execution_count": null,
   "metadata": {},
   "outputs": [],
   "source": [
    "s3_client = session.client('s3')"
   ]
  },
  {
   "cell_type": "markdown",
   "metadata": {},
   "source": [
    "## Access through http(s)\n",
    "\n",
    "### Change Access Control"
   ]
  },
  {
   "cell_type": "code",
   "execution_count": null,
   "metadata": {},
   "outputs": [],
   "source": [
    "obj = s3.Object('barteks-toxic-comments-stats', 'sample/train_sample100stat_copy.csv')\n",
    "obj.Acl().put(ACL='public-read')"
   ]
  },
  {
   "cell_type": "markdown",
   "metadata": {},
   "source": [
    "### Uri\n",
    "\n",
    "There are two formats of uri:\n",
    "```\n",
    "http(s)://s3.amazonaws.com/<bucket>/<object>\n",
    "http(s)://<bucket>.s3.amazonaws.com/<object>\n",
    "```\n",
    "\n",
    "### Example\n",
    "\n",
    "<https://s3.amazonaws.com/barteks-toxic-comments-stats/sample/train_sample100stat.csv>"
   ]
  },
  {
   "cell_type": "markdown",
   "metadata": {},
   "source": [
    "## Streaming with smart_open\n",
    "\n",
    "### Install\n",
    "\n",
    "```\n",
    "pip install smart_open\n",
    "```"
   ]
  },
  {
   "cell_type": "code",
   "execution_count": null,
   "metadata": {},
   "outputs": [],
   "source": [
    "from smart_open import smart_open\n",
    "\n",
    "comments1000 = \\\n",
    "    pd.read_csv(\n",
    "        smart_open(\n",
    "            's3://barteks-toxic-comments/sample/train_sample1000.csv', 'rb', \n",
    "            profile_name='myaws'))\n",
    "    \n",
    "comments1000_stat =\\\n",
    "    comments1000.groupby([\"toxic\", \"severe_toxic\", \"obscene\", \"threat\", \"insult\", \"identity_hate\"])\\\n",
    "    .count().reset_index()\n",
    "comments1000_stat.head()"
   ]
  },
  {
   "cell_type": "markdown",
   "metadata": {},
   "source": [
    "#### Passing session"
   ]
  },
  {
   "cell_type": "code",
   "execution_count": null,
   "metadata": {},
   "outputs": [],
   "source": [
    "pd.read_csv(smart_open(\n",
    "    's3://barteks-toxic-comments/sample/train_sample100.csv', 'rb', \n",
    "        s3_session=session)\n",
    ").head()"
   ]
  },
  {
   "cell_type": "markdown",
   "metadata": {},
   "source": [
    "It is smart enough to recognize from where it has to read"
   ]
  },
  {
   "cell_type": "code",
   "execution_count": null,
   "metadata": {},
   "outputs": [],
   "source": [
    "pd.read_csv(smart_open(\n",
    "    'data/train_sample100.csv', 'rb', \n",
    "    s3_session=session)\n",
    ").head()"
   ]
  },
  {
   "cell_type": "markdown",
   "metadata": {},
   "source": [
    "#### Writing"
   ]
  },
  {
   "cell_type": "code",
   "execution_count": null,
   "metadata": {},
   "outputs": [],
   "source": [
    "with smart_open('s3://barteks-toxic-comments-stats/sample/train_sample1000stat123.csv', 'w', \n",
    "               profile_name='myaws') as fout:\n",
    "    comments1000_stat.to_csv(fout, index=False)"
   ]
  },
  {
   "cell_type": "code",
   "execution_count": null,
   "metadata": {},
   "outputs": [],
   "source": [
    "import pickle\n",
    "class Model:\n",
    "\n",
    "    def __init__(self):\n",
    "        self.attr = 123\n",
    "        \n",
    "model = Model()\n",
    "\n",
    "with smart_open(\"s3://barteks-toxic-comments-stats/models/model.pickle\", 'wb', \n",
    "               profile_name='myaws') as f:\n",
    "    pickle.dump(model, f, pickle.HIGHEST_PROTOCOL)\n",
    "    "
   ]
  },
  {
   "cell_type": "code",
   "execution_count": null,
   "metadata": {},
   "outputs": [],
   "source": [
    "list(stat_bucket.objects.all())"
   ]
  },
  {
   "cell_type": "code",
   "execution_count": null,
   "metadata": {},
   "outputs": [],
   "source": [
    "with smart_open(\"s3://barteks-toxic-comments-stats/models/model.pickle\", 'rb', \n",
    "               profile_name='myaws') as f:\n",
    "    model = pickle.load(f)\n",
    "print(model.attr)"
   ]
  },
  {
   "cell_type": "markdown",
   "metadata": {},
   "source": [
    "## Links:\n",
    "\n",
    "* https://github.com/boto/boto3\n",
    "* https://boto3.amazonaws.com/v1/documentation/api/latest/index.html\n",
    "* https://www.kaggle.com/c/jigsaw-toxic-comment-classification-challenge"
   ]
  }
 ],
 "metadata": {
  "kernelspec": {
   "display_name": "Python 3",
   "language": "python",
   "name": "python3"
  },
  "language_info": {
   "codemirror_mode": {
    "name": "ipython",
    "version": 3
   },
   "file_extension": ".py",
   "mimetype": "text/x-python",
   "name": "python",
   "nbconvert_exporter": "python",
   "pygments_lexer": "ipython3",
   "version": "3.6.8"
  }
 },
 "nbformat": 4,
 "nbformat_minor": 2
}
