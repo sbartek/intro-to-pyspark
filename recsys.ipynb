{
 "cells": [
  {
   "cell_type": "markdown",
   "metadata": {},
   "source": [
    "<https://www.kaggle.com/c/instacart-market-basket-analysis/data>"
   ]
  },
  {
   "cell_type": "markdown",
   "metadata": {},
   "source": [
    "## 1. Read data"
   ]
  },
  {
   "cell_type": "code",
   "execution_count": 1,
   "metadata": {},
   "outputs": [],
   "source": [
    "from pyspark.sql import SparkSession\n",
    "\n",
    "spark = SparkSession \\\n",
    "    .builder \\\n",
    "    .appName(\"Pyspark course\") \\\n",
    "    .config(\"spark.jars.packages\", \"org.apache.hadoop:hadoop-aws:2.7.3\")\\\n",
    "    .getOrCreate()"
   ]
  },
  {
   "cell_type": "code",
   "execution_count": 2,
   "metadata": {},
   "outputs": [],
   "source": [
    "import pyspark.sql.functions as F"
   ]
  },
  {
   "cell_type": "code",
   "execution_count": 3,
   "metadata": {},
   "outputs": [],
   "source": [
    "import os\n",
    "import configparser\n",
    "aws_profile = \"myaws\"\n",
    "\n",
    "config = configparser.ConfigParser()\n",
    "config.read(os.path.expanduser(\"~/.aws/credentials\"))\n",
    "access_id = config.get(aws_profile, \"aws_access_key_id\") \n",
    "access_key = config.get(aws_profile, \"aws_secret_access_key\")"
   ]
  },
  {
   "cell_type": "code",
   "execution_count": 4,
   "metadata": {},
   "outputs": [],
   "source": [
    "hadoop_conf = spark._jsc.hadoopConfiguration()\n",
    "hadoop_conf.set(\"fs.s3n.impl\", \"org.apache.hadoop.fs.s3native.NativeS3FileSystem\")\n",
    "hadoop_conf.set(\"fs.s3n.awsAccessKeyId\", access_id)\n",
    "hadoop_conf.set(\"fs.s3n.awsSecretAccessKey\", access_key)"
   ]
  },
  {
   "cell_type": "code",
   "execution_count": 5,
   "metadata": {},
   "outputs": [],
   "source": [
    "#sdf = spark.read.option(\"header\", \"true\").csv(\"s3n://bartek-ml-course/order_products__prior.csv\").cache()\n",
    "prior_sdf = spark.read.option(\"header\", \"true\").csv(\"data/order_products__prior.csv\").cache()"
   ]
  },
  {
   "cell_type": "code",
   "execution_count": 13,
   "metadata": {},
   "outputs": [
    {
     "name": "stdout",
     "output_type": "stream",
     "text": [
      "root\n",
      " |-- order_id: string (nullable = true)\n",
      " |-- product_id: string (nullable = true)\n",
      " |-- add_to_cart_order: string (nullable = true)\n",
      " |-- reordered: string (nullable = true)\n",
      "\n"
     ]
    }
   ],
   "source": [
    "sdf.printSchema()"
   ]
  },
  {
   "cell_type": "code",
   "execution_count": 14,
   "metadata": {},
   "outputs": [
    {
     "name": "stdout",
     "output_type": "stream",
     "text": [
      "+--------+----------+-----------------+---------+\n",
      "|order_id|product_id|add_to_cart_order|reordered|\n",
      "+--------+----------+-----------------+---------+\n",
      "|       2|     33120|                1|        1|\n",
      "|       2|     28985|                2|        1|\n",
      "|       2|      9327|                3|        0|\n",
      "|       2|     45918|                4|        1|\n",
      "|       2|     30035|                5|        0|\n",
      "|       2|     17794|                6|        1|\n",
      "|       2|     40141|                7|        1|\n",
      "|       2|      1819|                8|        1|\n",
      "|       2|     43668|                9|        0|\n",
      "|       3|     33754|                1|        1|\n",
      "|       3|     24838|                2|        1|\n",
      "|       3|     17704|                3|        1|\n",
      "|       3|     21903|                4|        1|\n",
      "|       3|     17668|                5|        1|\n",
      "|       3|     46667|                6|        1|\n",
      "|       3|     17461|                7|        1|\n",
      "|       3|     32665|                8|        1|\n",
      "|       4|     46842|                1|        0|\n",
      "|       4|     26434|                2|        1|\n",
      "|       4|     39758|                3|        1|\n",
      "+--------+----------+-----------------+---------+\n",
      "only showing top 20 rows\n",
      "\n"
     ]
    }
   ],
   "source": [
    "sdf.show()"
   ]
  },
  {
   "cell_type": "code",
   "execution_count": 15,
   "metadata": {},
   "outputs": [],
   "source": [
    "from pyspark.sql.types import StringType, IntegerType, StructType, StructField\n",
    "schema_order_product = StructType([\n",
    "    StructField(\"order_id\", IntegerType()),\n",
    "    StructField(\"product_id\", IntegerType()),\n",
    "    StructField(\"add_to_cart_order\", IntegerType()),\n",
    "    StructField(\"reorderd\", IntegerType())\n",
    "])"
   ]
  },
  {
   "cell_type": "code",
   "execution_count": 16,
   "metadata": {},
   "outputs": [],
   "source": [
    "#orders_sdf = spark.read.option(\"header\", \"true\").csv(\"s3n://bartek-ml-course/orders.csv\")\\\n",
    "#    .cache()\n",
    "orders_sdf = spark.read.option(\"header\", \"true\").csv(\"data/orders.csv\")\\\n",
    "    .cache()"
   ]
  },
  {
   "cell_type": "code",
   "execution_count": 17,
   "metadata": {},
   "outputs": [
    {
     "name": "stdout",
     "output_type": "stream",
     "text": [
      "root\n",
      " |-- order_id: string (nullable = true)\n",
      " |-- user_id: string (nullable = true)\n",
      " |-- eval_set: string (nullable = true)\n",
      " |-- order_number: string (nullable = true)\n",
      " |-- order_dow: string (nullable = true)\n",
      " |-- order_hour_of_day: string (nullable = true)\n",
      " |-- days_since_prior_order: string (nullable = true)\n",
      "\n"
     ]
    }
   ],
   "source": [
    "orders_sdf.printSchema()"
   ]
  },
  {
   "cell_type": "markdown",
   "metadata": {},
   "source": [
    "## 2. Exploratory analysis"
   ]
  },
  {
   "cell_type": "code",
   "execution_count": 18,
   "metadata": {},
   "outputs": [
    {
     "name": "stdout",
     "output_type": "stream",
     "text": [
      "+--------+----------+-----+\n",
      "|order_id|product_id|times|\n",
      "+--------+----------+-----+\n",
      "|      18|     17568|    1|\n",
      "|      30|      1158|    1|\n",
      "|      54|     24852|    1|\n",
      "|      71|     39389|    1|\n",
      "|      97|     34565|    1|\n",
      "|     117|     20119|    1|\n",
      "|     147|      1360|    1|\n",
      "|     183|      4305|    1|\n",
      "|     234|     19019|    1|\n",
      "|     254|     47521|    1|\n",
      "|     265|     20431|    1|\n",
      "|     289|     12341|    1|\n",
      "|     289|     48775|    1|\n",
      "|     308|     18027|    1|\n",
      "|     315|     42327|    1|\n",
      "|     315|     21511|    1|\n",
      "|     328|      5818|    1|\n",
      "|     329|     42736|    1|\n",
      "|     336|     25146|    1|\n",
      "|     338|     38905|    1|\n",
      "+--------+----------+-----+\n",
      "only showing top 20 rows\n",
      "\n"
     ]
    }
   ],
   "source": [
    "## your code here\n",
    "sdf.groupBy(\"order_id\", \"product_id\")\\\n",
    "    .agg(F.count(\"product_id\").alias(\"times\"))\\\n",
    "    .orderBy(F.desc(\"times\"))\\\n",
    "    .show()"
   ]
  },
  {
   "cell_type": "code",
   "execution_count": 32,
   "metadata": {},
   "outputs": [
    {
     "name": "stdout",
     "output_type": "stream",
     "text": [
      "+-------+-------------+----------+\n",
      "|user_id|product_count|product_id|\n",
      "+-------+-------------+----------+\n",
      "|      1|           10|       196|\n",
      "|      1|           10|     12427|\n",
      "|     10|            4|     28535|\n",
      "|     10|            4|     47526|\n",
      "|     10|            4|     16797|\n",
      "|     10|            4|     30489|\n",
      "|     10|            4|     46979|\n",
      "|    100|            3|     27344|\n",
      "|    100|            3|     21616|\n",
      "|   1000|            7|     26165|\n",
      "|   1000|            7|     30492|\n",
      "|   1000|            7|     14870|\n",
      "|   1000|            7|     28465|\n",
      "|   1000|            7|     49683|\n",
      "|  10000|           44|     21137|\n",
      "| 100000|            5|     16797|\n",
      "| 100000|            5|     10151|\n",
      "| 100000|            5|     19348|\n",
      "| 100000|            5|      3318|\n",
      "| 100001|           41|     21137|\n",
      "+-------+-------------+----------+\n",
      "only showing top 20 rows\n",
      "\n"
     ]
    }
   ],
   "source": [
    "product_count_df = prior_sdf\\\n",
    "    .select('product_id', 'order_id')\\\n",
    "    .join(orders_sdf.select('order_id', 'user_id'), 'order_id', how='left')\\\n",
    "    .select('user_id', 'product_id')\\\n",
    "    .groupBy('user_id', 'product_id')\\\n",
    "    .agg(F.count('product_id').alias('product_count'))\n",
    "\n",
    "user_most_popular_item = product_count_df\\\n",
    "    .groupBy('user_id')\\\n",
    "    .agg(F.max('product_count').alias('product_count'))\\\n",
    "    .orderBy('user_id').cache()\n",
    "\n",
    "user_most_popular_item\\\n",
    "    .join(product_count_df, how='left', on=['user_id','product_count'])\\\n",
    "    .orderBy('user_id')\\\n",
    "    .show()"
   ]
  },
  {
   "cell_type": "markdown",
   "metadata": {},
   "source": [
    "## Second solution"
   ]
  },
  {
   "cell_type": "code",
   "execution_count": 29,
   "metadata": {},
   "outputs": [
    {
     "name": "stdout",
     "output_type": "stream",
     "text": [
      "+-------+----------+-------------+-------------+\n",
      "|user_id|product_id|count_product|user_top_item|\n",
      "+-------+----------+-------------+-------------+\n",
      "|      1|       196|           10|            1|\n",
      "|      1|     12427|           10|            1|\n",
      "|     10|     16797|            4|            1|\n",
      "|     10|     47526|            4|            1|\n",
      "|     10|     30489|            4|            1|\n",
      "|     10|     46979|            4|            1|\n",
      "|     10|     28535|            4|            1|\n",
      "|    100|     21616|            3|            1|\n",
      "|    100|     27344|            3|            1|\n",
      "|   1000|     26165|            7|            1|\n",
      "|   1000|     14870|            7|            1|\n",
      "|   1000|     49683|            7|            1|\n",
      "|   1000|     30492|            7|            1|\n",
      "|   1000|     28465|            7|            1|\n",
      "|  10000|     21137|           44|            1|\n",
      "| 100000|     19348|            5|            1|\n",
      "| 100000|     16797|            5|            1|\n",
      "| 100000|      3318|            5|            1|\n",
      "| 100000|     10151|            5|            1|\n",
      "| 100001|     13176|           41|            1|\n",
      "+-------+----------+-------------+-------------+\n",
      "only showing top 20 rows\n",
      "\n"
     ]
    }
   ],
   "source": [
    "from pyspark.sql import Window\n",
    "from pyspark.sql.functions import rank, col\n",
    "\n",
    "window = Window.partitionBy(\"user_id\").orderBy(F.desc(\"count_product\"))\n",
    "\n",
    "prior_sdf\\\n",
    "    .select(\"order_id\", \"product_id\")\\\n",
    "    .join(orders_sdf, \"order_id\", how=\"left\")\\\n",
    "    .select(\"order_id\", \"product_id\", \"user_id\")\\\n",
    "    .groupBy(\"user_id\", \"product_id\")\\\n",
    "    .agg(F.count(F.col(\"product_id\")).alias(\"count_product\"))\\\n",
    "    .select('*', rank().over(window).alias(\"user_top_item\"))\\\n",
    "    .filter(col(\"user_top_item\") == 1)\\\n",
    "    .orderBy(\"user_id\")\\\n",
    "    .show()"
   ]
  },
  {
   "cell_type": "markdown",
   "metadata": {},
   "source": [
    "## Tercer"
   ]
  },
  {
   "cell_type": "code",
   "execution_count": 36,
   "metadata": {},
   "outputs": [],
   "source": [
    "product_count_df = prior_sdf\\\n",
    "    .select('product_id', 'order_id')\\\n",
    "    .join(orders_sdf.select('order_id', 'user_id'), 'order_id', how='left')\\\n",
    "    .select('user_id', 'product_id')\\\n",
    "    .groupBy('user_id', 'product_id')\\\n",
    "    .agg(F.count('product_id').alias('product_count'))\\\n",
    "    .select(\n",
    "        F.col(\"user_id\"), \n",
    "        F.struct(\"product_count\", \"product_id\").alias(\"count_product\"))\\\n",
    "    .groupBy(\"user_id\")\\\n",
    "    .agg(F.max(\"count_product\"))\\\n",
    "    .orderBy(\"user_id\")\n"
   ]
  },
  {
   "cell_type": "code",
   "execution_count": 37,
   "metadata": {},
   "outputs": [
    {
     "name": "stdout",
     "output_type": "stream",
     "text": [
      "+-------+------------------+\n",
      "|user_id|max(count_product)|\n",
      "+-------+------------------+\n",
      "|      1|         [10, 196]|\n",
      "|     10|        [4, 47526]|\n",
      "|    100|        [3, 27344]|\n",
      "|   1000|        [7, 49683]|\n",
      "|  10000|       [44, 21137]|\n",
      "| 100000|         [5, 3318]|\n",
      "| 100001|       [41, 21137]|\n",
      "| 100002|       [10, 26172]|\n",
      "| 100003|         [2, 9214]|\n",
      "| 100004|        [7, 19660]|\n",
      "| 100005|       [10, 42413]|\n",
      "| 100006|        [4, 41290]|\n",
      "| 100007|        [6, 33452]|\n",
      "| 100008|       [11, 42972]|\n",
      "| 100009|        [8, 24852]|\n",
      "|  10001|       [11, 16398]|\n",
      "| 100010|        [7, 41771]|\n",
      "| 100011|        [7, 47766]|\n",
      "| 100012|       [24, 41148]|\n",
      "| 100013|       [15, 47792]|\n",
      "+-------+------------------+\n",
      "only showing top 20 rows\n",
      "\n"
     ]
    }
   ],
   "source": [
    "product_count_df.show()"
   ]
  },
  {
   "cell_type": "markdown",
   "metadata": {},
   "source": [
    "## 3. Create user-item list"
   ]
  },
  {
   "cell_type": "code",
   "execution_count": 41,
   "metadata": {},
   "outputs": [],
   "source": [
    "from pyspark.sql import Window\n",
    "def id2idx(id_sdf, id_col, idx_col):\n",
    "    id_window = Window().orderBy(id_col)\n",
    "    return id_sdf.withColumn(idx_col, F.rank().over(id_window))"
   ]
  },
  {
   "cell_type": "code",
   "execution_count": 58,
   "metadata": {},
   "outputs": [],
   "source": [
    "class Labelizer:\n",
    "    \n",
    "    def __init__(self, all_data=None, id_col=None, idx_col=None):\n",
    "        self.all_data = all_data\n",
    "        self.id_col = id_col\n",
    "        self.idx_col = idx_col\n",
    "        self.id_idx = None\n",
    "        \n",
    "    def get_id_idx(self):\n",
    "        self.id_idx = id2idx(self.all_data, self.id_col, self.idx_col)\n",
    "        return self.id_idx\n",
    "    \n",
    "    def save(self, file_name):\n",
    "        self.id_idx.write.mode(\"overwrite\").parquet(file_name)\n",
    "    \n",
    "    def load(self, file_name):\n",
    "        self.id_idx = spark.read.parquet(file_name)\n",
    "    \n",
    "    @classmethod\n",
    "    def create_from_saved(cls, file_name, id_col=None, idx_col=None):\n",
    "        labelizer = cls(all_data=None, id_col=id_col, idx_col=idx_col)\n",
    "        labelizer.load(file_name)\n",
    "        return labelizer"
   ]
  },
  {
   "cell_type": "code",
   "execution_count": 65,
   "metadata": {},
   "outputs": [
    {
     "ename": "ImportError",
     "evalue": "cannot import name 'Labelizer'",
     "output_type": "error",
     "traceback": [
      "\u001b[0;31m---------------------------------------------------------------------------\u001b[0m",
      "\u001b[0;31mImportError\u001b[0m                               Traceback (most recent call last)",
      "\u001b[0;32m<ipython-input-65-6acbfc38fa25>\u001b[0m in \u001b[0;36m<module>\u001b[0;34m\u001b[0m\n\u001b[0;32m----> 1\u001b[0;31m \u001b[0;32mfrom\u001b[0m \u001b[0mals_labelizer\u001b[0m \u001b[0;32mimport\u001b[0m \u001b[0mLabelizer\u001b[0m\u001b[0;34m\u001b[0m\u001b[0;34m\u001b[0m\u001b[0m\n\u001b[0m",
      "\u001b[0;31mImportError\u001b[0m: cannot import name 'Labelizer'"
     ]
    }
   ],
   "source": [
    "from als_labelizer import Labelizer"
   ]
  },
  {
   "cell_type": "code",
   "execution_count": 59,
   "metadata": {},
   "outputs": [],
   "source": [
    "all_users = orders_sdf.select(\"user_id\").distinct()\n",
    "users_sample, _ = all_users.randomSplit([0.015, 0.985], seed=666)\n",
    "all_product = sdf.select(\"product_id\").distinct()"
   ]
  },
  {
   "cell_type": "code",
   "execution_count": 60,
   "metadata": {},
   "outputs": [],
   "source": [
    "user_labelizer = Labelizer(users_sample, \"user_id\", \"user_idx\")\n",
    "user_id_idx = user_labelizer.get_id_idx()"
   ]
  },
  {
   "cell_type": "code",
   "execution_count": 61,
   "metadata": {},
   "outputs": [],
   "source": [
    "user_labelizer_loaded = Labelizer(None, \"user_id\", \"user_idx\")\n",
    "user_labelizer_loaded.load(\"data/user_id_idx.parquet\")"
   ]
  },
  {
   "cell_type": "code",
   "execution_count": 62,
   "metadata": {},
   "outputs": [
    {
     "name": "stdout",
     "output_type": "stream",
     "text": [
      "+-------+--------+\n",
      "|user_id|user_idx|\n",
      "+-------+--------+\n",
      "| 100032|       1|\n",
      "|  10012|       2|\n",
      "| 100136|       3|\n",
      "| 100281|       4|\n",
      "| 100378|       5|\n",
      "| 100383|       6|\n",
      "| 100473|       7|\n",
      "| 100543|       8|\n",
      "| 100649|       9|\n",
      "| 100716|      10|\n",
      "| 100734|      11|\n",
      "| 100736|      12|\n",
      "| 100833|      13|\n",
      "| 100898|      14|\n",
      "| 100934|      15|\n",
      "| 100950|      16|\n",
      "| 100951|      17|\n",
      "| 101001|      18|\n",
      "| 101024|      19|\n",
      "|  10104|      20|\n",
      "+-------+--------+\n",
      "only showing top 20 rows\n",
      "\n"
     ]
    }
   ],
   "source": [
    "user_labelizer_loaded.id_idx.show()"
   ]
  },
  {
   "cell_type": "code",
   "execution_count": null,
   "metadata": {},
   "outputs": [],
   "source": [
    "new_user_labelizer = Labeli"
   ]
  },
  {
   "cell_type": "code",
   "execution_count": 43,
   "metadata": {},
   "outputs": [],
   "source": [
    "all_users = orders_sdf.select(\"user_id\").distinct()\n",
    "users_sample, _ = all_users.randomSplit([0.015, 0.985], seed=666)\n",
    "all_product = sdf.select(\"product_id\").distinct()"
   ]
  },
  {
   "cell_type": "code",
   "execution_count": 40,
   "metadata": {},
   "outputs": [
    {
     "data": {
      "text/plain": [
       "3149"
      ]
     },
     "execution_count": 40,
     "metadata": {},
     "output_type": "execute_result"
    }
   ],
   "source": [
    "users_sample.count()"
   ]
  },
  {
   "cell_type": "code",
   "execution_count": 18,
   "metadata": {},
   "outputs": [],
   "source": [
    "user_id_idx = id2idx(users_sample, \"user_id\", \"user_idx\")\n",
    "product_id_idx = id2idx(all_product, \"product_id\", \"product_idx\")"
   ]
  },
  {
   "cell_type": "code",
   "execution_count": 19,
   "metadata": {},
   "outputs": [],
   "source": [
    "## your code here\n",
    "user_item_sdf = sdf.join(orders_sdf, on=\"order_id\")\\\n",
    "    .select(F.col(\"user_id\"), F.col(\"product_id\"), F.lit(1).alias(\"rating\"))\\\n",
    "    .join(user_id_idx, \"user_id\")\\\n",
    "    .join(product_id_idx, \"product_id\")\\\n",
    "    .cache()"
   ]
  },
  {
   "cell_type": "markdown",
   "metadata": {},
   "source": [
    "## 4. Create ALS model"
   ]
  },
  {
   "cell_type": "code",
   "execution_count": 70,
   "metadata": {},
   "outputs": [],
   "source": [
    "from pyspark.ml.recommendation import ALS\n",
    "als = ALS(\n",
    "    rank=5, maxIter=20, \n",
    "    userCol=\"user_idx\", itemCol=\"product_idx\", \n",
    "    seed=666, implicitPrefs=True)"
   ]
  },
  {
   "cell_type": "code",
   "execution_count": 71,
   "metadata": {},
   "outputs": [],
   "source": [
    "als_model = als.fit(user_item_sdf)"
   ]
  },
  {
   "cell_type": "markdown",
   "metadata": {},
   "source": [
    "## 5. Validate results"
   ]
  },
  {
   "cell_type": "code",
   "execution_count": 88,
   "metadata": {},
   "outputs": [],
   "source": [
    "rec5 = als_model.recommendForAllUsers(10)"
   ]
  },
  {
   "cell_type": "code",
   "execution_count": 89,
   "metadata": {},
   "outputs": [
    {
     "name": "stdout",
     "output_type": "stream",
     "text": [
      "root\n",
      " |-- user_idx: integer (nullable = false)\n",
      " |-- recommendations: array (nullable = true)\n",
      " |    |-- element: struct (containsNull = true)\n",
      " |    |    |-- product_idx: integer (nullable = true)\n",
      " |    |    |-- rating: float (nullable = true)\n",
      "\n"
     ]
    }
   ],
   "source": [
    "rec5.printSchema()"
   ]
  },
  {
   "cell_type": "code",
   "execution_count": 91,
   "metadata": {},
   "outputs": [],
   "source": [
    "rec5ids = rec5.join(user_id_idx, \"user_idx\")\\\n",
    "    .withColumn(\"recommendation\", F.explode(\"recommendations\"))\\\n",
    "    .select(\"user_id\", \"recommendation.product_idx\")\\\n",
    "    .join(product_id_idx, \"product_idx\")\\\n",
    "    .drop(\"product_idx\").cache()"
   ]
  },
  {
   "cell_type": "code",
   "execution_count": 92,
   "metadata": {},
   "outputs": [],
   "source": [
    "order_product_train_sdf = spark\\\n",
    "    .read.option(\"header\", \"true\")\\\n",
    "    .csv(\"data/order_products__train.csv\").cache()\n",
    "user_item_train_sdf = order_product_train.join(orders_sdf, \"order_id\")\\\n",
    "    .select(F.col(\"user_id\"), F.col(\"product_id\"), F.lit(1).alias(\"last_buy\")).cache()"
   ]
  },
  {
   "cell_type": "code",
   "execution_count": 93,
   "metadata": {},
   "outputs": [],
   "source": [
    "rec5ids_val = rec5ids.join(user_item_train_sdf, on=[\"user_id\", \"product_id\"], how=\"left\")"
   ]
  },
  {
   "cell_type": "code",
   "execution_count": 94,
   "metadata": {},
   "outputs": [],
   "source": [
    "precision_df = rec5ids_val.groupBy(\"last_buy\").count().toPandas()"
   ]
  },
  {
   "cell_type": "code",
   "execution_count": 95,
   "metadata": {},
   "outputs": [
    {
     "data": {
      "text/plain": [
       "0    0.948555\n",
       "1    0.051445\n",
       "Name: count, dtype: float64"
      ]
     },
     "execution_count": 95,
     "metadata": {},
     "output_type": "execute_result"
    }
   ],
   "source": [
    "precision_df['count']/sum(precision_df['count'])"
   ]
  },
  {
   "cell_type": "markdown",
   "metadata": {},
   "source": [
    "## 6. Non colaborative algorithm"
   ]
  },
  {
   "cell_type": "code",
   "execution_count": 96,
   "metadata": {},
   "outputs": [
    {
     "name": "stdout",
     "output_type": "stream",
     "text": [
      "+---+--------------------+\n",
      "| id|            features|\n",
      "+---+--------------------+\n",
      "| 10|[-0.010944766, -0...|\n",
      "| 20|[-0.0060177636, 7...|\n",
      "| 40|[-0.2809162, 0.41...|\n",
      "| 60|[-0.0019884966, 0...|\n",
      "| 70|[-0.09843452, 0.0...|\n",
      "| 80|[-0.015406999, 0....|\n",
      "|100|[5.365436E-4, 0.0...|\n",
      "|110|[0.055715587, -2....|\n",
      "|170|[-0.0025643965, -...|\n",
      "|180|[-0.016432649, 0....|\n",
      "|190|[-0.011314751, 0....|\n",
      "|200|[0.0105908085, 0....|\n",
      "|240|[-0.032621145, 0....|\n",
      "|250|[-0.04655511, 0.0...|\n",
      "|290|[0.084733084, -0....|\n",
      "|380|[-0.16577977, 0.4...|\n",
      "|420|[-0.0034182696, 0...|\n",
      "|430|[0.0034633707, -0...|\n",
      "|440|[7.157677E-4, -8....|\n",
      "|450|[0.024876615, 0.0...|\n",
      "+---+--------------------+\n",
      "only showing top 20 rows\n",
      "\n"
     ]
    }
   ],
   "source": [
    "als_model.itemFactors.show()"
   ]
  },
  {
   "cell_type": "markdown",
   "metadata": {},
   "source": []
  }
 ],
 "metadata": {
  "kernelspec": {
   "display_name": "Python 3",
   "language": "python",
   "name": "python3"
  },
  "language_info": {
   "codemirror_mode": {
    "name": "ipython",
    "version": 3
   },
   "file_extension": ".py",
   "mimetype": "text/x-python",
   "name": "python",
   "nbconvert_exporter": "python",
   "pygments_lexer": "ipython3",
   "version": "3.6.8"
  }
 },
 "nbformat": 4,
 "nbformat_minor": 2
}
