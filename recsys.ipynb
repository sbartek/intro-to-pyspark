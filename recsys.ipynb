{
 "cells": [
  {
   "cell_type": "markdown",
   "metadata": {},
   "source": [
    "<https://www.kaggle.com/c/instacart-market-basket-analysis/data>"
   ]
  },
  {
   "cell_type": "markdown",
   "metadata": {},
   "source": [
    "## 1. Read data"
   ]
  },
  {
   "cell_type": "code",
   "execution_count": 1,
   "metadata": {},
   "outputs": [],
   "source": [
    "from pyspark.sql import SparkSession\n",
    "\n",
    "spark = SparkSession \\\n",
    "    .builder \\\n",
    "    .appName(\"Pyspark course\") \\\n",
    "    .config(\"spark.jars.packages\", \"org.apache.hadoop:hadoop-aws:2.7.3\")\\\n",
    "    .getOrCreate()"
   ]
  },
  {
   "cell_type": "code",
   "execution_count": 2,
   "metadata": {},
   "outputs": [],
   "source": [
    "import pyspark.sql.functions as F"
   ]
  },
  {
   "cell_type": "code",
   "execution_count": 3,
   "metadata": {},
   "outputs": [],
   "source": [
    "import os\n",
    "import configparser\n",
    "aws_profile = \"myaws\"\n",
    "\n",
    "config = configparser.ConfigParser()\n",
    "config.read(os.path.expanduser(\"~/.aws/credentials\"))\n",
    "access_id = config.get(aws_profile, \"aws_access_key_id\") \n",
    "access_key = config.get(aws_profile, \"aws_secret_access_key\")"
   ]
  },
  {
   "cell_type": "code",
   "execution_count": 4,
   "metadata": {},
   "outputs": [],
   "source": [
    "hadoop_conf = spark._jsc.hadoopConfiguration()\n",
    "hadoop_conf.set(\"fs.s3n.impl\", \"org.apache.hadoop.fs.s3native.NativeS3FileSystem\")\n",
    "hadoop_conf.set(\"fs.s3n.awsAccessKeyId\", access_id)\n",
    "hadoop_conf.set(\"fs.s3n.awsSecretAccessKey\", access_key)"
   ]
  },
  {
   "cell_type": "code",
   "execution_count": 5,
   "metadata": {},
   "outputs": [],
   "source": [
    "#sdf = spark.read.option(\"header\", \"true\").csv(\"s3n://bartek-ml-course/order_products__prior.csv\").cache()\n",
    "sdf = spark.read.option(\"header\", \"true\").csv(\"data/order_products__prior.csv\").cache()"
   ]
  },
  {
   "cell_type": "code",
   "execution_count": null,
   "metadata": {},
   "outputs": [],
   "source": [
    "sdf.printSchema()"
   ]
  },
  {
   "cell_type": "code",
   "execution_count": null,
   "metadata": {},
   "outputs": [],
   "source": [
    "sdf.show()"
   ]
  },
  {
   "cell_type": "code",
   "execution_count": null,
   "metadata": {},
   "outputs": [],
   "source": [
    "from pyspark.sql.types import StringType, IntegerType, StructType, StructField\n",
    "schema_order_product = StructType([\n",
    "    StructField(\"order_id\", IntegerType()),\n",
    "    StructField(\"product_id\", IntegerType()),\n",
    "    StructField(\"add_to_cart_order\", IntegerType()),\n",
    "    StructField(\"reorderd\", IntegerType())\n",
    "])"
   ]
  },
  {
   "cell_type": "code",
   "execution_count": 6,
   "metadata": {},
   "outputs": [],
   "source": [
    "#orders_sdf = spark.read.option(\"header\", \"true\").csv(\"s3n://bartek-ml-course/orders.csv\")\\\n",
    "#    .cache()\n",
    "orders_sdf = spark.read.option(\"header\", \"true\").csv(\"data/orders.csv\")\\\n",
    "    .cache()"
   ]
  },
  {
   "cell_type": "code",
   "execution_count": null,
   "metadata": {},
   "outputs": [],
   "source": [
    "orders_sdf.printSchema()"
   ]
  },
  {
   "cell_type": "markdown",
   "metadata": {},
   "source": [
    "## 2. Exploratory analysis"
   ]
  },
  {
   "cell_type": "code",
   "execution_count": null,
   "metadata": {},
   "outputs": [],
   "source": [
    "## your code here\n",
    "sdf.groupBy(\"order_id\", \"product_id\")\\\n",
    "    .agg(F.count(\"product_id\").alias(\"times\"))\\\n",
    "    .orderBy(F.desc(\"times\"))\\\n",
    "    .show()"
   ]
  },
  {
   "cell_type": "markdown",
   "metadata": {},
   "source": [
    "## 3. Create user-item list"
   ]
  },
  {
   "cell_type": "code",
   "execution_count": 7,
   "metadata": {},
   "outputs": [],
   "source": [
    "from pyspark.sql import Window\n",
    "def id2idx(id_sdf, id_col, idx_col):\n",
    "    id_window = Window().orderBy(id_col)\n",
    "    return id_sdf.withColumn(idx_col, F.rank().over(id_window))"
   ]
  },
  {
   "cell_type": "code",
   "execution_count": 16,
   "metadata": {},
   "outputs": [],
   "source": [
    "all_users = orders_sdf.select(\"user_id\").distinct()\n",
    "users_sample, _ = all_users.randomSplit([0.015, 0.985], seed=666)\n",
    "all_product = sdf.select(\"product_id\").distinct()"
   ]
  },
  {
   "cell_type": "code",
   "execution_count": 17,
   "metadata": {},
   "outputs": [
    {
     "data": {
      "text/plain": [
       "3149"
      ]
     },
     "execution_count": 17,
     "metadata": {},
     "output_type": "execute_result"
    }
   ],
   "source": [
    "users_sample.count()"
   ]
  },
  {
   "cell_type": "code",
   "execution_count": 18,
   "metadata": {},
   "outputs": [],
   "source": [
    "user_id_idx = id2idx(users_sample, \"user_id\", \"user_idx\")\n",
    "product_id_idx = id2idx(all_product, \"product_id\", \"product_idx\")"
   ]
  },
  {
   "cell_type": "code",
   "execution_count": 19,
   "metadata": {},
   "outputs": [],
   "source": [
    "## your code here\n",
    "user_item_sdf = sdf.join(orders_sdf, on=\"order_id\")\\\n",
    "    .select(F.col(\"user_id\"), F.col(\"product_id\"), F.lit(1).alias(\"rating\"))\\\n",
    "    .join(user_id_idx, \"user_id\")\\\n",
    "    .join(product_id_idx, \"product_id\")\\\n",
    "    .cache()"
   ]
  },
  {
   "cell_type": "markdown",
   "metadata": {},
   "source": [
    "## 4. Create ALS model"
   ]
  },
  {
   "cell_type": "code",
   "execution_count": 70,
   "metadata": {},
   "outputs": [],
   "source": [
    "from pyspark.ml.recommendation import ALS\n",
    "als = ALS(\n",
    "    rank=5, maxIter=20, \n",
    "    userCol=\"user_idx\", itemCol=\"product_idx\", \n",
    "    seed=666, implicitPrefs=True)"
   ]
  },
  {
   "cell_type": "code",
   "execution_count": 71,
   "metadata": {},
   "outputs": [],
   "source": [
    "als_model = als.fit(user_item_sdf)"
   ]
  },
  {
   "cell_type": "markdown",
   "metadata": {},
   "source": [
    "## 5. Validate results"
   ]
  },
  {
   "cell_type": "code",
   "execution_count": 88,
   "metadata": {},
   "outputs": [],
   "source": [
    "rec5 = als_model.recommendForAllUsers(10)"
   ]
  },
  {
   "cell_type": "code",
   "execution_count": 89,
   "metadata": {},
   "outputs": [
    {
     "name": "stdout",
     "output_type": "stream",
     "text": [
      "root\n",
      " |-- user_idx: integer (nullable = false)\n",
      " |-- recommendations: array (nullable = true)\n",
      " |    |-- element: struct (containsNull = true)\n",
      " |    |    |-- product_idx: integer (nullable = true)\n",
      " |    |    |-- rating: float (nullable = true)\n",
      "\n"
     ]
    }
   ],
   "source": [
    "rec5.printSchema()"
   ]
  },
  {
   "cell_type": "code",
   "execution_count": 91,
   "metadata": {},
   "outputs": [],
   "source": [
    "rec5ids = rec5.join(user_id_idx, \"user_idx\")\\\n",
    "    .withColumn(\"recommendation\", F.explode(\"recommendations\"))\\\n",
    "    .select(\"user_id\", \"recommendation.product_idx\")\\\n",
    "    .join(product_id_idx, \"product_idx\")\\\n",
    "    .drop(\"product_idx\").cache()"
   ]
  },
  {
   "cell_type": "code",
   "execution_count": 92,
   "metadata": {},
   "outputs": [],
   "source": [
    "order_product_train_sdf = spark\\\n",
    "    .read.option(\"header\", \"true\")\\\n",
    "    .csv(\"data/order_products__train.csv\").cache()\n",
    "user_item_train_sdf = order_product_train.join(orders_sdf, \"order_id\")\\\n",
    "    .select(F.col(\"user_id\"), F.col(\"product_id\"), F.lit(1).alias(\"last_buy\")).cache()"
   ]
  },
  {
   "cell_type": "code",
   "execution_count": 93,
   "metadata": {},
   "outputs": [],
   "source": [
    "rec5ids_val = rec5ids.join(user_item_train_sdf, on=[\"user_id\", \"product_id\"], how=\"left\")"
   ]
  },
  {
   "cell_type": "code",
   "execution_count": 94,
   "metadata": {},
   "outputs": [],
   "source": [
    "precision_df = rec5ids_val.groupBy(\"last_buy\").count().toPandas()"
   ]
  },
  {
   "cell_type": "code",
   "execution_count": 95,
   "metadata": {},
   "outputs": [
    {
     "data": {
      "text/plain": [
       "0    0.948555\n",
       "1    0.051445\n",
       "Name: count, dtype: float64"
      ]
     },
     "execution_count": 95,
     "metadata": {},
     "output_type": "execute_result"
    }
   ],
   "source": [
    "precision_df['count']/sum(precision_df['count'])"
   ]
  },
  {
   "cell_type": "markdown",
   "metadata": {},
   "source": [
    "## 6. Non colaborative algorithm"
   ]
  },
  {
   "cell_type": "code",
   "execution_count": 96,
   "metadata": {},
   "outputs": [
    {
     "name": "stdout",
     "output_type": "stream",
     "text": [
      "+---+--------------------+\n",
      "| id|            features|\n",
      "+---+--------------------+\n",
      "| 10|[-0.010944766, -0...|\n",
      "| 20|[-0.0060177636, 7...|\n",
      "| 40|[-0.2809162, 0.41...|\n",
      "| 60|[-0.0019884966, 0...|\n",
      "| 70|[-0.09843452, 0.0...|\n",
      "| 80|[-0.015406999, 0....|\n",
      "|100|[5.365436E-4, 0.0...|\n",
      "|110|[0.055715587, -2....|\n",
      "|170|[-0.0025643965, -...|\n",
      "|180|[-0.016432649, 0....|\n",
      "|190|[-0.011314751, 0....|\n",
      "|200|[0.0105908085, 0....|\n",
      "|240|[-0.032621145, 0....|\n",
      "|250|[-0.04655511, 0.0...|\n",
      "|290|[0.084733084, -0....|\n",
      "|380|[-0.16577977, 0.4...|\n",
      "|420|[-0.0034182696, 0...|\n",
      "|430|[0.0034633707, -0...|\n",
      "|440|[7.157677E-4, -8....|\n",
      "|450|[0.024876615, 0.0...|\n",
      "+---+--------------------+\n",
      "only showing top 20 rows\n",
      "\n"
     ]
    }
   ],
   "source": [
    "als_model.itemFactors.show()"
   ]
  },
  {
   "cell_type": "markdown",
   "metadata": {},
   "source": []
  }
 ],
 "metadata": {
  "kernelspec": {
   "display_name": "Python 3",
   "language": "python",
   "name": "python3"
  },
  "language_info": {
   "codemirror_mode": {
    "name": "ipython",
    "version": 3
   },
   "file_extension": ".py",
   "mimetype": "text/x-python",
   "name": "python",
   "nbconvert_exporter": "python",
   "pygments_lexer": "ipython3",
   "version": "3.6.8"
  }
 },
 "nbformat": 4,
 "nbformat_minor": 2
}
