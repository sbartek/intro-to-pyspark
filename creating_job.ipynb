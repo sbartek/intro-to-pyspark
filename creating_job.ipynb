{
 "cells": [
  {
   "cell_type": "markdown",
   "metadata": {},
   "source": [
    "## Creating a job\n",
    "\n",
    "See <https://spark.apache.org/docs/latest/quick-start.html>\n",
    "\n",
    "Create a file `sample_app.py`.\n",
    "\n",
    "``` python\n",
    "from pyspark.sql import SparkSession\n",
    "import pyspark.sql.functions as F\n",
    "\n",
    "spark = SparkSession.builder.appName(\"SimpleApp\").getOrCreate()\n",
    "\n",
    "df = spark.createDataFrame(\n",
    "    [(0, 0, 4.0), (0, 1, 2.0), (0, 3, 3.0), (1, 0, 4.0), (1, 1, 1.0), (1, 2, 5.0)],\n",
    "    [\"user\", \"item\", \"rating\"]\n",
    ")\n",
    "\n",
    "df_pandas = df.groupBy(\"user\").agg(F.count(F.col(\"item\"))).toPandas()\n",
    "print(df_pandas)\n",
    "\n",
    "spark.stop()\n",
    "```\n",
    "\n",
    "## Sending local  job\n",
    "\n",
    "``` shell\n",
    "$SPARK_HOME/bin/spark-submit sample_app.py\n",
    "```\n",
    "\n",
    "If you test it locally and you have configured `pyspark` to work with `jupyter` then you have to reset two variables by\n",
    "\n",
    "``` shell\n",
    "unset PYSPARK_DRIVER_PYTHON\n",
    "unset PYSPARK_DRIVER_PYTHON_OPTS\n",
    "```"
   ]
  },
  {
   "cell_type": "code",
   "execution_count": null,
   "metadata": {},
   "outputs": [],
   "source": []
  }
 ],
 "metadata": {
  "kernelspec": {
   "display_name": "Python 3",
   "language": "python",
   "name": "python3"
  },
  "language_info": {
   "codemirror_mode": {
    "name": "ipython",
    "version": 3
   },
   "file_extension": ".py",
   "mimetype": "text/x-python",
   "name": "python",
   "nbconvert_exporter": "python",
   "pygments_lexer": "ipython3",
   "version": "3.6.8"
  }
 },
 "nbformat": 4,
 "nbformat_minor": 2
}
